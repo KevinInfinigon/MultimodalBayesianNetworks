{
 "cells": [
  {
   "cell_type": "code",
   "execution_count": null,
   "metadata": {},
   "outputs": [],
   "source": [
    "import os\n",
    "import cv2\n",
    "import numpy as np\n",
    "from PIL import Image\n",
    "\n",
    "def color_constancy(img, power=6, gamma=2.2):\n",
    "    \"\"\"\n",
    "    img: 2D numpy array\n",
    "        The original image with format of (h, w, c)\n",
    "    power: int\n",
    "        The degree of norm, 6 is used in reference paper\n",
    "    gamma: float\n",
    "        The value of gamma correction, 2.2 is used in reference paper\n",
    "    \"\"\"\n",
    "    img_dtype = img.dtype\n",
    "\n",
    "    if gamma is not None:\n",
    "        img = img.astype('uint8')\n",
    "        look_up_table = np.ones((256, 1), dtype='uint8')*0\n",
    "        for i in range(256):\n",
    "            look_up_table[i][0] = 255*pow(i/255, 1/gamma)\n",
    "        img = cv2.LUT(img, look_up_table)\n",
    "\n",
    "    img = img.astype('float32')\n",
    "    img_power = np.power(img, power)\n",
    "    rgb_vec = np.power(np.mean(img_power, (0,1)), 1/power)\n",
    "    rgb_norm = np.sqrt(np.sum(np.power(rgb_vec, 2.0)))\n",
    "    rgb_vec = rgb_vec/rgb_norm\n",
    "    rgb_vec = 1/(rgb_vec*np.sqrt(3))\n",
    "    img = np.multiply(img, rgb_vec)\n",
    "    \n",
    "    return img.astype(img_dtype)\n",
    "\n",
    "def process_img_pil_to_opencv(pil_img):\n",
    "    # convert PIL Image to an OpenCV Image\n",
    "    opencv_img = np.array(pil_img) \n",
    "    # convert RGB to BGR \n",
    "    opencv_img = opencv_img[:, :, ::-1].copy() \n",
    "    return opencv_img\n",
    "\n",
    "def process_img_opencv_to_pil(opencv_img):\n",
    "    # convert BGR to RGB\n",
    "    opencv_img = cv2.cvtColor(opencv_img, cv2.COLOR_BGR2RGB)\n",
    "    # convert OpenCV Image to PIL Image\n",
    "    pil_img = Image.fromarray(opencv_img)\n",
    "    return pil_img"
   ]
  },
  {
   "cell_type": "code",
   "execution_count": null,
   "metadata": {},
   "outputs": [],
   "source": [
    "# set the input and output directories\n",
    "input_directory = '/.../PAD-UFES-20/'\n",
    "output_directory = '/.../PAD-UFES-20_300x300_SoG/'\n",
    "output_size = (300, 300)  # set the desired output size (width, height)\n",
    "\n",
    "# create the output directory if it doesn't exist\n",
    "os.makedirs(output_directory, exist_ok=True)\n",
    "\n",
    "# list all files in the input directory\n",
    "input_files = os.listdir(input_directory)\n",
    "\n",
    "# loop through the input files\n",
    "for input_file in input_files:\n",
    "    # check if the file is a PNG image\n",
    "    if input_file.endswith('.png'):\n",
    "        # open the image using Pillow\n",
    "        with Image.open(os.path.join(input_directory, input_file)) as img:\n",
    "            # resize the image to the desired size\n",
    "            img = img.resize(output_size)\n",
    "\n",
    "            # convert PIL Image to OpenCV Image\n",
    "            img = process_img_pil_to_opencv(img)\n",
    "            \n",
    "            # apply the Shades of Gray color constancy transformation\n",
    "            img = color_constancy(img, power=6, gamma=2.2)\n",
    "\n",
    "            # convert back to PIL Image\n",
    "            img = process_img_opencv_to_pil(img)\n",
    "\n",
    "            # construct the output file path\n",
    "            output_file = os.path.join(output_directory, os.path.splitext(input_file)[0] + '.jpg')\n",
    "            \n",
    "            # save the processed image as JPG to the output directory\n",
    "            img.save(output_file, 'JPEG')\n",
    "            print(f'Processed and saved {input_file} to {output_file}')"
   ]
  }
 ],
 "metadata": {
  "kernelspec": {
   "display_name": "base",
   "language": "python",
   "name": "python3"
  },
  "language_info": {
   "codemirror_mode": {
    "name": "ipython",
    "version": 3
   },
   "file_extension": ".py",
   "mimetype": "text/x-python",
   "name": "python",
   "nbconvert_exporter": "python",
   "pygments_lexer": "ipython3",
   "version": "3.9.13"
  },
  "orig_nbformat": 4,
  "vscode": {
   "interpreter": {
    "hash": "d844e3f8642a194b776b23a167f67ed705eb7f693544df137c8957dd067974a1"
   }
  }
 },
 "nbformat": 4,
 "nbformat_minor": 2
}
